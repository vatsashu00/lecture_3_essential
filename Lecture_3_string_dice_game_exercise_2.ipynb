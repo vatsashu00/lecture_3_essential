{
 "cells": [
  {
   "cell_type": "markdown",
   "metadata": {},
   "source": [
    "# Python Positional and Keyword Argument"
   ]
  },
  {
   "cell_type": "code",
   "execution_count": null,
   "metadata": {},
   "outputs": [],
   "source": [
    "#Positinal \n",
    "complex(5, 3)"
   ]
  },
  {
   "cell_type": "code",
   "execution_count": null,
   "metadata": {},
   "outputs": [],
   "source": [
    "#keyword\n",
    "complex(real=3, imag=5)"
   ]
  },
  {
   "cell_type": "markdown",
   "metadata": {},
   "source": [
    "# Let's create your own digital dice."
   ]
  },
  {
   "cell_type": "code",
   "execution_count": null,
   "metadata": {},
   "outputs": [],
   "source": [
    "#Digital dice\n",
    "#importing random function to genterate random number\n",
    "from random import randint\n",
    "print(\"Give lower limit of dice\")\n",
    "a = int(input())  #taking number as input\n",
    "print(\"Give upper limit of dice\")\n",
    "b = int(input())\n",
    "c=  randint(a,b)\n",
    "d= str(c)\n",
    "print(\"type q to Quit or any other key/enter to continue\")\n",
    "while True:\n",
    "\tprint(\">>> \"+ d) #randint is generating random number between a and b\n",
    "    print(\">>> \"+ c)\n",
    "\tif input() == 'q': #if 'q' is entered then come out of loop\n",
    "\t\tbreak"
   ]
  },
  {
   "cell_type": "code",
   "execution_count": null,
   "metadata": {},
   "outputs": [],
   "source": [
    "#Digital dice\n",
    "#importing random function to genterate random number\n",
    "from random import randint\n",
    "print(\"Give lower limit of dice\")\n",
    "a = int(input())\n",
    "print(\"Give upper limit of dice\")\n",
    "b = int(input())\n",
    "c=  randint(a,b)\n",
    "d= str(c)\n",
    "print(\"type q to Quit or any other key/enter to continue\")\n",
    "while True:\n",
    "\tprint(\">>> \"+ d) #randint is generating random number between a and b\n",
    "\tprint(\">>> \", c)\n",
    "\tif input() == 'q': #if 'q' is entered then come out of loop\n",
    "\t\tbreak"
   ]
  },
  {
   "cell_type": "code",
   "execution_count": null,
   "metadata": {},
   "outputs": [],
   "source": [
    "#Digital dice\n",
    "import random\n",
    "print(\"Give lower limit of dice\")\n",
    "a = int(input())\n",
    "print(\"Give upper limit of dice\")\n",
    "b = int(input())\n",
    "c=  randint(a,b)\n",
    "d= str(c)\n",
    "print(\"type q to Quit or any other key/enter to continue\")\n",
    "while True:\n",
    " print(\">>> \"+ d) #random number between a and b\n",
    " print(\">>> \", c)\n",
    " if input() == 'q': #if 'q' is entered then come out\n",
    "  break"
   ]
  },
  {
   "cell_type": "code",
   "execution_count": null,
   "metadata": {},
   "outputs": [],
   "source": [
    "# to solve registry problem for conda as stated in class first if you still stuck this is an solution to find\n",
    "# the replace keyword for your system.\n",
    "import os\n",
    "print('Hello, ' + os.getlogin() + '! How are you?')"
   ]
  },
  {
   "cell_type": "code",
   "execution_count": null,
   "metadata": {},
   "outputs": [],
   "source": [
    "# lets try table of two with While Loop\n",
    "n,i=2,1\n",
    "while i<=10:\n",
    " #print(n,i,\"=\",n*i,sep=\"*\")\n",
    " print(n,\"*\",i,\"=\",n*i)\n",
    " i+=1"
   ]
  },
  {
   "cell_type": "code",
   "execution_count": null,
   "metadata": {},
   "outputs": [],
   "source": [
    "n,i=2,1\n",
    "while i<=10:\n",
    " print(n,i, n*i, sep=\"*\")  \n",
    " i+=1"
   ]
  },
  {
   "cell_type": "code",
   "execution_count": null,
   "metadata": {},
   "outputs": [],
   "source": [
    "n,i=2,1\n",
    "while i<=10:\n",
    " print(n,i, sep=\"*\", end= \"=\")  \n",
    " print(n*i)\n",
    " i+=1"
   ]
  },
  {
   "cell_type": "markdown",
   "metadata": {},
   "source": [
    "# check your coding"
   ]
  },
  {
   "cell_type": "code",
   "execution_count": null,
   "metadata": {},
   "outputs": [],
   "source": [
    "print(\"Guess what number I’m thinking: \")\n",
    "guess = input()\n",
    "if guess == 5633839494:\n",
    " print(\"It’s correct!\")\n",
    "else:\n",
    " print(\"Sorry, wrong number\")\n",
    "# can you able to print \"It’s correct!\" why ... why why .. (please give answer wd name)"
   ]
  },
  {
   "cell_type": "code",
   "execution_count": null,
   "metadata": {},
   "outputs": [],
   "source": [
    "print(\"Guess what number I’m thinking: \")\n",
    "guess = \n",
    "if guess == 5633839494:\n",
    " print(\"It’s correct!\")\n",
    "else:\n",
    " print(\"Sorry, wrong number\")\n",
    "# tin(input())"
   ]
  },
  {
   "cell_type": "code",
   "execution_count": null,
   "metadata": {},
   "outputs": [],
   "source": [
    "n = 10\n",
    "s = str(n)\n",
    "print(n, type(n))\n",
    "print(s, type(s))"
   ]
  },
  {
   "cell_type": "code",
   "execution_count": null,
   "metadata": {},
   "outputs": [],
   "source": [
    "# The error message invalid literal for int() \n",
    "# with base 10 would seem to indicate that you are passing a string that's not an integer to the int() function .\n",
    "\n",
    "print(int(\"3.14\"))"
   ]
  },
  {
   "cell_type": "code",
   "execution_count": null,
   "metadata": {},
   "outputs": [],
   "source": [
    "print(float(\"3.14\"))"
   ]
  },
  {
   "cell_type": "code",
   "execution_count": null,
   "metadata": {},
   "outputs": [],
   "source": [
    "s1 = \"one\" + \" \" + \"string\"\n",
    "length = len(s1)\n",
    "print(\"the string:\", s1, \"is\", length, \"characters long\")"
   ]
  },
  {
   "cell_type": "code",
   "execution_count": null,
   "metadata": {},
   "outputs": [],
   "source": [
    "s2 = \"hello,\"*3\n",
    "print(\"the string: \", s2, \"is\", len(s2), \"characters long\")"
   ]
  },
  {
   "cell_type": "code",
   "execution_count": null,
   "metadata": {},
   "outputs": [],
   "source": [
    "print(\"So I said + \"You don\\’t know me!\") #still to do"
   ]
  },
  {
   "cell_type": "markdown",
   "metadata": {},
   "source": [
    "# Color text with ANSI escape characters\n",
    "#### The \\033 is how the escape character is represented in Python, which is then followed by a special code. The 033 is the octal value of the escape character code, 27. Sometimes it is represented as \\x1b which is the hexadecimal equivalent for 27. In the bash shell, you might see the escape character represented by \\e in codes that look like \\e[31m. You may have seen these codes if you have ever tried to customize your PS1 prompt shell in bash. The \\033 just designated that the values coming directly after it are special characters meant to be interpeted by the terminal. We typically pass color codes right after the escape character to change the color text being output, but there are also special characters to clear the screen or move the cursor.\n",
    "\n",
    "The [31m part of \\033[31m means \"red foreground mode\". All escape codes start with a an open bracket [ but not all of them end with an m. For example, [2J is the code to clear the screen and [3D will move the cursor back 3 characters. The m in [31m is because we are toggling graphics mode 31 (red foreground).\n",
    "\n",
    "You can try these yourself and see how they works. Your results may vary. Since this is unreliable, we'll look at the colorama Python package which has a bunch of shortcuts for these hard-to-remember codes, and also enables these ANSI codes on Windows, making colorized code more portable."
   ]
  },
  {
   "cell_type": "code",
   "execution_count": 29,
   "metadata": {},
   "outputs": [
    {
     "name": "stdout",
     "output_type": "stream",
     "text": [
      "\u001b[2J\n",
      "\u001b[31mHello\u001b[0m\n"
     ]
    }
   ],
   "source": [
    "# In Python, print red text using ANSI escape codes\n",
    "# Doesn't sometime work well in Windows though\n",
    "print('\\033[2J')  # Clear screen\n",
    "print('\\033[31m' + 'Hello' + '\\033[0m')  # Red text"
   ]
  },
  {
   "cell_type": "code",
   "execution_count": 35,
   "metadata": {},
   "outputs": [
    {
     "name": "stdout",
     "output_type": "stream",
     "text": [
      "\u001b[2J\u001b[31mWelcome!\u001b[0m\n"
     ]
    }
   ],
   "source": [
    "CLEAR_SCREEN = '\\033[2J'\n",
    "RED = '\\033[31m'   # mode 31 = red forground\n",
    "RESET = '\\033[0m'  # mode 0  = reset\n",
    "print(CLEAR_SCREEN + RED + 'Welcome!' + RESET )"
   ]
  },
  {
   "cell_type": "code",
   "execution_count": 37,
   "metadata": {},
   "outputs": [
    {
     "name": "stdout",
     "output_type": "stream",
     "text": [
      "\u001b[31msome red text\n",
      "\u001b[42mand with a green background\n",
      "\u001b[2mand in dim text\n",
      "\u001b[0m\n",
      "back to normal now\n"
     ]
    }
   ],
   "source": [
    "import colorama \n",
    "# from Fore, Back, Style\n",
    "print(Fore.RED + 'some red text') \n",
    "print(Back.GREEN + 'and with a green background') \n",
    "print(Style.DIM + 'and in dim text') \n",
    "print(Style.RESET_ALL) \n",
    "print('back to normal now') "
   ]
  },
  {
   "cell_type": "code",
   "execution_count": null,
   "metadata": {},
   "outputs": [],
   "source": []
  }
 ],
 "metadata": {
  "kernelspec": {
   "display_name": "Python 3",
   "language": "python",
   "name": "python3"
  },
  "language_info": {
   "codemirror_mode": {
    "name": "ipython",
    "version": 3
   },
   "file_extension": ".py",
   "mimetype": "text/x-python",
   "name": "python",
   "nbconvert_exporter": "python",
   "pygments_lexer": "ipython3",
   "version": "3.6.4"
  }
 },
 "nbformat": 4,
 "nbformat_minor": 2
}
